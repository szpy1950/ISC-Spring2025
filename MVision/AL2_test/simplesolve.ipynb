{
 "cells": [
  {
   "cell_type": "code",
   "id": "initial_id",
   "metadata": {
    "collapsed": true,
    "ExecuteTime": {
     "end_time": "2025-03-09T06:54:03.655468Z",
     "start_time": "2025-03-09T06:54:03.278574Z"
    }
   },
   "source": [
    "from PIL import Image\n",
    "import scipy\n",
    "import glob\n",
    "import numpy as np\n",
    "import scipy.ndimage\n",
    "import cv2\n",
    "import skimage\n",
    "#from skimage import img_as_ubyte\n",
    "import matplotlib.pyplot as plt"
   ],
   "outputs": [],
   "execution_count": 2
  },
  {
   "metadata": {
    "ExecuteTime": {
     "end_time": "2025-03-09T06:55:53.103661Z",
     "start_time": "2025-03-09T06:55:53.093888Z"
    }
   },
   "cell_type": "code",
   "source": "image = Image.open('images/puzzlepieces.jpg')",
   "id": "52a84bfc11837f9b",
   "outputs": [],
   "execution_count": 4
  },
  {
   "metadata": {
    "ExecuteTime": {
     "end_time": "2025-03-09T06:56:17.512315Z",
     "start_time": "2025-03-09T06:56:17.508296Z"
    }
   },
   "cell_type": "code",
   "source": "gray = image.convert('L')",
   "id": "593205e9fb33ca15",
   "outputs": [],
   "execution_count": 5
  },
  {
   "metadata": {
    "ExecuteTime": {
     "end_time": "2025-03-09T06:56:40.866655Z",
     "start_time": "2025-03-09T06:56:40.862826Z"
    }
   },
   "cell_type": "code",
   "source": "gray_im = np.array(gray, dtype='uint8')/255.0",
   "id": "9d859981d9d467ea",
   "outputs": [],
   "execution_count": 6
  },
  {
   "metadata": {
    "ExecuteTime": {
     "end_time": "2025-03-09T06:57:37.899446Z",
     "start_time": "2025-03-09T06:57:37.897598Z"
    }
   },
   "cell_type": "code",
   "source": "bin_image = np.zeros(gray_im.shape)",
   "id": "bb0a591de8600c71",
   "outputs": [],
   "execution_count": 7
  },
  {
   "metadata": {
    "ExecuteTime": {
     "end_time": "2025-03-09T06:58:00.523810Z",
     "start_time": "2025-03-09T06:58:00.521242Z"
    }
   },
   "cell_type": "code",
   "source": "bin_image[gray_im > 0.06] = 1.0",
   "id": "4f56b1ec06ad6c2c",
   "outputs": [],
   "execution_count": 8
  },
  {
   "metadata": {},
   "cell_type": "code",
   "outputs": [],
   "execution_count": null,
   "source": "",
   "id": "9efb7bde8bbc47af"
  }
 ],
 "metadata": {
  "kernelspec": {
   "display_name": "Python 3",
   "language": "python",
   "name": "python3"
  },
  "language_info": {
   "codemirror_mode": {
    "name": "ipython",
    "version": 2
   },
   "file_extension": ".py",
   "mimetype": "text/x-python",
   "name": "python",
   "nbconvert_exporter": "python",
   "pygments_lexer": "ipython2",
   "version": "2.7.6"
  }
 },
 "nbformat": 4,
 "nbformat_minor": 5
}
