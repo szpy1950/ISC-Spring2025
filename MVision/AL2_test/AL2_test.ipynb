{
 "cells": [
  {
   "metadata": {
    "ExecuteTime": {
     "end_time": "2025-02-27T01:44:08.004992Z",
     "start_time": "2025-02-27T01:44:07.917270Z"
    }
   },
   "cell_type": "code",
   "source": "import numpy as np",
   "id": "9e34284d9b8850af",
   "outputs": [],
   "execution_count": 2
  },
  {
   "metadata": {
    "ExecuteTime": {
     "end_time": "2025-02-27T01:44:30.104663Z",
     "start_time": "2025-02-27T01:44:30.102605Z"
    }
   },
   "cell_type": "code",
   "source": "vector = np.array([1, 2, 3, 4])",
   "id": "1c21adf5f13245af",
   "outputs": [],
   "execution_count": 3
  },
  {
   "metadata": {
    "ExecuteTime": {
     "end_time": "2025-02-27T01:44:37.580747Z",
     "start_time": "2025-02-27T01:44:37.578067Z"
    }
   },
   "cell_type": "code",
   "source": "print(vector)",
   "id": "9ba963528a6d07d9",
   "outputs": [
    {
     "name": "stdout",
     "output_type": "stream",
     "text": [
      "[1 2 3 4]\n"
     ]
    }
   ],
   "execution_count": 4
  },
  {
   "metadata": {
    "ExecuteTime": {
     "end_time": "2025-02-27T01:45:04.128843Z",
     "start_time": "2025-02-27T01:45:04.019757Z"
    }
   },
   "cell_type": "code",
   "source": "vector2 = np.array([5, 6, 7, 8], [9, 10, 11, 12])",
   "id": "23e43eea59166f6f",
   "outputs": [
    {
     "ename": "TypeError",
     "evalue": "Field elements must be 2- or 3-tuples, got '9'",
     "output_type": "error",
     "traceback": [
      "\u001B[0;31m---------------------------------------------------------------------------\u001B[0m",
      "\u001B[0;31mTypeError\u001B[0m                                 Traceback (most recent call last)",
      "Cell \u001B[0;32mIn[5], line 1\u001B[0m\n\u001B[0;32m----> 1\u001B[0m vector2 \u001B[38;5;241m=\u001B[39m \u001B[43mnp\u001B[49m\u001B[38;5;241;43m.\u001B[39;49m\u001B[43marray\u001B[49m\u001B[43m(\u001B[49m\u001B[43m[\u001B[49m\u001B[38;5;241;43m5\u001B[39;49m\u001B[43m,\u001B[49m\u001B[43m \u001B[49m\u001B[38;5;241;43m6\u001B[39;49m\u001B[43m,\u001B[49m\u001B[43m \u001B[49m\u001B[38;5;241;43m7\u001B[39;49m\u001B[43m,\u001B[49m\u001B[43m \u001B[49m\u001B[38;5;241;43m8\u001B[39;49m\u001B[43m]\u001B[49m\u001B[43m,\u001B[49m\u001B[43m \u001B[49m\u001B[43m[\u001B[49m\u001B[38;5;241;43m9\u001B[39;49m\u001B[43m,\u001B[49m\u001B[43m \u001B[49m\u001B[38;5;241;43m10\u001B[39;49m\u001B[43m,\u001B[49m\u001B[43m \u001B[49m\u001B[38;5;241;43m11\u001B[39;49m\u001B[43m,\u001B[49m\u001B[43m \u001B[49m\u001B[38;5;241;43m12\u001B[39;49m\u001B[43m]\u001B[49m\u001B[43m)\u001B[49m\n",
      "\u001B[0;31mTypeError\u001B[0m: Field elements must be 2- or 3-tuples, got '9'"
     ]
    }
   ],
   "execution_count": 5
  },
  {
   "metadata": {
    "ExecuteTime": {
     "end_time": "2025-02-27T01:45:25.934433Z",
     "start_time": "2025-02-27T01:45:25.932386Z"
    }
   },
   "cell_type": "code",
   "source": "vector_arange = np.arange(10)",
   "id": "53248396b14a93e6",
   "outputs": [],
   "execution_count": 6
  },
  {
   "metadata": {
    "ExecuteTime": {
     "end_time": "2025-02-27T01:45:30.043726Z",
     "start_time": "2025-02-27T01:45:30.040873Z"
    }
   },
   "cell_type": "code",
   "source": "print(vector_arange)",
   "id": "73d4451e32307195",
   "outputs": [
    {
     "name": "stdout",
     "output_type": "stream",
     "text": [
      "[0 1 2 3 4 5 6 7 8 9]\n"
     ]
    }
   ],
   "execution_count": 7
  },
  {
   "metadata": {
    "ExecuteTime": {
     "end_time": "2025-02-27T01:46:10.840693Z",
     "start_time": "2025-02-27T01:46:10.838586Z"
    }
   },
   "cell_type": "code",
   "source": "vector_linspace = np.linspace(0, 1, 5)",
   "id": "e8645e2c4d636550",
   "outputs": [],
   "execution_count": 9
  },
  {
   "metadata": {
    "ExecuteTime": {
     "end_time": "2025-02-27T01:46:18.645117Z",
     "start_time": "2025-02-27T01:46:18.642986Z"
    }
   },
   "cell_type": "code",
   "source": "print(vector_linspace)",
   "id": "6b84d46a2c482090",
   "outputs": [
    {
     "name": "stdout",
     "output_type": "stream",
     "text": [
      "[0.   0.25 0.5  0.75 1.  ]\n"
     ]
    }
   ],
   "execution_count": 10
  },
  {
   "metadata": {
    "ExecuteTime": {
     "end_time": "2025-02-27T01:47:10.442011Z",
     "start_time": "2025-02-27T01:47:10.439770Z"
    }
   },
   "cell_type": "code",
   "source": "vector_linspace2 = np.linspace(0, 100, 50)",
   "id": "c4de54f67752f868",
   "outputs": [],
   "execution_count": 11
  },
  {
   "metadata": {
    "ExecuteTime": {
     "end_time": "2025-02-27T01:47:15.218593Z",
     "start_time": "2025-02-27T01:47:15.216116Z"
    }
   },
   "cell_type": "code",
   "source": "print(vector_linspace2)",
   "id": "7992b20337f67437",
   "outputs": [
    {
     "name": "stdout",
     "output_type": "stream",
     "text": [
      "[  0.           2.04081633   4.08163265   6.12244898   8.16326531\n",
      "  10.20408163  12.24489796  14.28571429  16.32653061  18.36734694\n",
      "  20.40816327  22.44897959  24.48979592  26.53061224  28.57142857\n",
      "  30.6122449   32.65306122  34.69387755  36.73469388  38.7755102\n",
      "  40.81632653  42.85714286  44.89795918  46.93877551  48.97959184\n",
      "  51.02040816  53.06122449  55.10204082  57.14285714  59.18367347\n",
      "  61.2244898   63.26530612  65.30612245  67.34693878  69.3877551\n",
      "  71.42857143  73.46938776  75.51020408  77.55102041  79.59183673\n",
      "  81.63265306  83.67346939  85.71428571  87.75510204  89.79591837\n",
      "  91.83673469  93.87755102  95.91836735  97.95918367 100.        ]\n"
     ]
    }
   ],
   "execution_count": 12
  },
  {
   "metadata": {
    "ExecuteTime": {
     "end_time": "2025-02-27T01:47:49.737517Z",
     "start_time": "2025-02-27T01:47:49.735507Z"
    }
   },
   "cell_type": "code",
   "source": "matrix_2x3 = np.array([[1, 2, 3], [4, 5, 6]])",
   "id": "4fa7419868fe4b87",
   "outputs": [],
   "execution_count": 13
  },
  {
   "metadata": {
    "ExecuteTime": {
     "end_time": "2025-02-27T01:47:52.852710Z",
     "start_time": "2025-02-27T01:47:52.850585Z"
    }
   },
   "cell_type": "code",
   "source": "print(matrix_2x3)",
   "id": "d6761b88fa94b17d",
   "outputs": [
    {
     "name": "stdout",
     "output_type": "stream",
     "text": [
      "[[1 2 3]\n",
      " [4 5 6]]\n"
     ]
    }
   ],
   "execution_count": 14
  },
  {
   "metadata": {
    "ExecuteTime": {
     "end_time": "2025-02-27T01:48:24.264597Z",
     "start_time": "2025-02-27T01:48:24.262534Z"
    }
   },
   "cell_type": "code",
   "source": "matrix_zeros = np.zeros((3, 4))",
   "id": "7dbe1c29e765c37",
   "outputs": [],
   "execution_count": 15
  },
  {
   "metadata": {
    "ExecuteTime": {
     "end_time": "2025-02-27T01:48:27.982035Z",
     "start_time": "2025-02-27T01:48:27.979567Z"
    }
   },
   "cell_type": "code",
   "source": "print(matrix_zeros)",
   "id": "2ec99db309b2c4b",
   "outputs": [
    {
     "name": "stdout",
     "output_type": "stream",
     "text": [
      "[[0. 0. 0. 0.]\n",
      " [0. 0. 0. 0.]\n",
      " [0. 0. 0. 0.]]\n"
     ]
    }
   ],
   "execution_count": 16
  },
  {
   "metadata": {
    "ExecuteTime": {
     "end_time": "2025-02-27T01:49:30.593449Z",
     "start_time": "2025-02-27T01:49:30.587500Z"
    }
   },
   "cell_type": "code",
   "source": "matrix_rand = np.random.rand(2, 3)",
   "id": "3964a7f22f294f6f",
   "outputs": [],
   "execution_count": 17
  },
  {
   "metadata": {
    "ExecuteTime": {
     "end_time": "2025-02-27T01:49:35.654893Z",
     "start_time": "2025-02-27T01:49:35.652681Z"
    }
   },
   "cell_type": "code",
   "source": "print(matrix_rand)",
   "id": "339a2e4769085e53",
   "outputs": [
    {
     "name": "stdout",
     "output_type": "stream",
     "text": [
      "[[0.15986136 0.141706   0.68605817]\n",
      " [0.08111813 0.28722166 0.53249531]]\n"
     ]
    }
   ],
   "execution_count": 18
  },
  {
   "metadata": {
    "ExecuteTime": {
     "end_time": "2025-02-27T01:50:37.542574Z",
     "start_time": "2025-02-27T01:50:37.540713Z"
    }
   },
   "cell_type": "code",
   "source": "matrix_id_5x5 = np.eye(5)",
   "id": "f20b4a7f75fded0f",
   "outputs": [],
   "execution_count": 19
  },
  {
   "metadata": {
    "ExecuteTime": {
     "end_time": "2025-02-27T01:50:42.540479Z",
     "start_time": "2025-02-27T01:50:42.538253Z"
    }
   },
   "cell_type": "code",
   "source": "print(matrix_id_5x5)",
   "id": "93d0912d3e458bb5",
   "outputs": [
    {
     "name": "stdout",
     "output_type": "stream",
     "text": [
      "[[1. 0. 0. 0. 0.]\n",
      " [0. 1. 0. 0. 0.]\n",
      " [0. 0. 1. 0. 0.]\n",
      " [0. 0. 0. 1. 0.]\n",
      " [0. 0. 0. 0. 1.]]\n"
     ]
    }
   ],
   "execution_count": 20
  },
  {
   "metadata": {
    "ExecuteTime": {
     "end_time": "2025-02-27T01:51:46.234941Z",
     "start_time": "2025-02-27T01:51:46.233086Z"
    }
   },
   "cell_type": "code",
   "source": "matrix_1 = np.zeros(10)",
   "id": "77fd057f1473f75d",
   "outputs": [],
   "execution_count": 21
  },
  {
   "metadata": {
    "ExecuteTime": {
     "end_time": "2025-02-27T01:51:48.751050Z",
     "start_time": "2025-02-27T01:51:48.748992Z"
    }
   },
   "cell_type": "code",
   "source": "print(matrix_1)",
   "id": "f9430d26926d5ae1",
   "outputs": [
    {
     "name": "stdout",
     "output_type": "stream",
     "text": [
      "[0. 0. 0. 0. 0. 0. 0. 0. 0. 0.]\n"
     ]
    }
   ],
   "execution_count": 22
  },
  {
   "metadata": {
    "ExecuteTime": {
     "end_time": "2025-02-27T01:51:59.898876Z",
     "start_time": "2025-02-27T01:51:59.896777Z"
    }
   },
   "cell_type": "code",
   "source": "print(matrix_1 + 5)",
   "id": "9fa8529356fe9507",
   "outputs": [
    {
     "name": "stdout",
     "output_type": "stream",
     "text": [
      "[5. 5. 5. 5. 5. 5. 5. 5. 5. 5.]\n"
     ]
    }
   ],
   "execution_count": 23
  },
  {
   "metadata": {
    "ExecuteTime": {
     "end_time": "2025-02-27T01:52:06.416808Z",
     "start_time": "2025-02-27T01:52:06.414713Z"
    }
   },
   "cell_type": "code",
   "source": "print(matrix_1)",
   "id": "eaf53bba58b084d5",
   "outputs": [
    {
     "name": "stdout",
     "output_type": "stream",
     "text": [
      "[0. 0. 0. 0. 0. 0. 0. 0. 0. 0.]\n"
     ]
    }
   ],
   "execution_count": 24
  },
  {
   "metadata": {
    "ExecuteTime": {
     "end_time": "2025-02-27T02:17:45.068850Z",
     "start_time": "2025-02-27T02:17:45.066910Z"
    }
   },
   "cell_type": "code",
   "source": "a = np.array([1, 2, 3])",
   "id": "29548dbafc09aab2",
   "outputs": [],
   "execution_count": 25
  },
  {
   "metadata": {
    "ExecuteTime": {
     "end_time": "2025-02-27T02:17:54.268232Z",
     "start_time": "2025-02-27T02:17:54.266442Z"
    }
   },
   "cell_type": "code",
   "source": "b = np.array([4, 5, 6])",
   "id": "89002b4faf25df38",
   "outputs": [],
   "execution_count": 26
  },
  {
   "metadata": {
    "ExecuteTime": {
     "end_time": "2025-02-27T02:18:05.231406Z",
     "start_time": "2025-02-27T02:18:05.229125Z"
    }
   },
   "cell_type": "code",
   "source": "print(np.dot(a, b))",
   "id": "9574a5156f6a5bc2",
   "outputs": [
    {
     "name": "stdout",
     "output_type": "stream",
     "text": [
      "32\n"
     ]
    }
   ],
   "execution_count": 27
  },
  {
   "metadata": {
    "ExecuteTime": {
     "end_time": "2025-02-27T02:20:00.317673Z",
     "start_time": "2025-02-27T02:20:00.315759Z"
    }
   },
   "cell_type": "code",
   "source": "c = np.array([[1], [2], [3]])",
   "id": "de76c26e9f1abe29",
   "outputs": [],
   "execution_count": 28
  },
  {
   "metadata": {
    "ExecuteTime": {
     "end_time": "2025-02-27T02:20:04.075328Z",
     "start_time": "2025-02-27T02:20:04.073078Z"
    }
   },
   "cell_type": "code",
   "source": "print(c)",
   "id": "93e106e127ad01e5",
   "outputs": [
    {
     "name": "stdout",
     "output_type": "stream",
     "text": [
      "[[1]\n",
      " [2]\n",
      " [3]]\n"
     ]
    }
   ],
   "execution_count": 29
  },
  {
   "metadata": {
    "ExecuteTime": {
     "end_time": "2025-02-27T03:44:05.494014Z",
     "start_time": "2025-02-27T03:44:05.491962Z"
    }
   },
   "cell_type": "code",
   "source": [
    "A = np.array([\n",
    "    [2, -1, 1, 3],\n",
    "    [4, 2, -2, 1],\n",
    "    [1, 1, 3, -1],\n",
    "    [3, -2, -1, 2]\n",
    "])"
   ],
   "id": "917272695f2fcad3",
   "outputs": [],
   "execution_count": 62
  },
  {
   "metadata": {
    "ExecuteTime": {
     "end_time": "2025-02-27T02:33:54.515321Z",
     "start_time": "2025-02-27T02:33:54.513269Z"
    }
   },
   "cell_type": "code",
   "source": "print(A)",
   "id": "c57cea73b0f389b2",
   "outputs": [
    {
     "name": "stdout",
     "output_type": "stream",
     "text": [
      "[[ 2 -1  1  3]\n",
      " [ 4  2 -2  1]\n",
      " [ 1  1  3 -1]\n",
      " [ 3 -2 -1  2]]\n"
     ]
    }
   ],
   "execution_count": 31
  },
  {
   "metadata": {
    "ExecuteTime": {
     "end_time": "2025-02-27T02:34:31.419887Z",
     "start_time": "2025-02-27T02:34:31.417395Z"
    }
   },
   "cell_type": "code",
   "source": "print(A[2])",
   "id": "3afc8370b28e0a73",
   "outputs": [
    {
     "name": "stdout",
     "output_type": "stream",
     "text": [
      "[ 1  1  3 -1]\n"
     ]
    }
   ],
   "execution_count": 32
  },
  {
   "metadata": {
    "ExecuteTime": {
     "end_time": "2025-02-27T02:35:10.892220Z",
     "start_time": "2025-02-27T02:35:10.890227Z"
    }
   },
   "cell_type": "code",
   "source": "A[1] = A[1] - 2 * A[0]",
   "id": "602890eb4a0d9ba6",
   "outputs": [],
   "execution_count": 33
  },
  {
   "metadata": {
    "ExecuteTime": {
     "end_time": "2025-02-27T03:43:48.738262Z",
     "start_time": "2025-02-27T03:43:48.736005Z"
    }
   },
   "cell_type": "code",
   "source": "print(A)",
   "id": "13c300606ce1e7e6",
   "outputs": [
    {
     "name": "stdout",
     "output_type": "stream",
     "text": [
      "[[ 2 -1  1  3]\n",
      " [ 0  4 -4 -5]\n",
      " [ 0  1  2 -2]\n",
      " [ 0  0 -2 -2]]\n"
     ]
    }
   ],
   "execution_count": 60
  },
  {
   "metadata": {
    "ExecuteTime": {
     "end_time": "2025-02-27T02:36:00.715745Z",
     "start_time": "2025-02-27T02:36:00.713436Z"
    }
   },
   "cell_type": "code",
   "source": [
    "A[2] = A[2] - 0.5 * A[0]\n",
    "print(A)"
   ],
   "id": "86dc9cdec1ef92fb",
   "outputs": [
    {
     "name": "stdout",
     "output_type": "stream",
     "text": [
      "[[ 2 -1  1  3]\n",
      " [ 0  4 -4 -5]\n",
      " [ 0  1  2 -2]\n",
      " [ 3 -2 -1  2]]\n"
     ]
    }
   ],
   "execution_count": 35
  },
  {
   "metadata": {
    "ExecuteTime": {
     "end_time": "2025-02-27T02:59:47.962673Z",
     "start_time": "2025-02-27T02:59:47.960731Z"
    }
   },
   "cell_type": "code",
   "source": [
    "def algo(m):\n",
    "    print(len(m), len(m[0]))"
   ],
   "id": "55f814d7ba239da1",
   "outputs": [],
   "execution_count": 36
  },
  {
   "metadata": {
    "ExecuteTime": {
     "end_time": "2025-02-27T02:59:53.530388Z",
     "start_time": "2025-02-27T02:59:53.527931Z"
    }
   },
   "cell_type": "code",
   "source": "algo(A)",
   "id": "a24a1160d3ee869f",
   "outputs": [
    {
     "name": "stdout",
     "output_type": "stream",
     "text": [
      "4 4\n"
     ]
    }
   ],
   "execution_count": 37
  },
  {
   "metadata": {
    "ExecuteTime": {
     "end_time": "2025-02-27T03:03:28.629975Z",
     "start_time": "2025-02-27T03:03:28.627667Z"
    }
   },
   "cell_type": "code",
   "source": "def algo2(m):",
   "id": "eb17526de89b2b44",
   "outputs": [
    {
     "ename": "_IncompleteInputError",
     "evalue": "incomplete input (1496126320.py, line 1)",
     "output_type": "error",
     "traceback": [
      "\u001B[0;36m  Cell \u001B[0;32mIn[38], line 1\u001B[0;36m\u001B[0m\n\u001B[0;31m    def algo2(m):\u001B[0m\n\u001B[0m                 ^\u001B[0m\n\u001B[0;31m_IncompleteInputError\u001B[0m\u001B[0;31m:\u001B[0m incomplete input\n"
     ]
    }
   ],
   "execution_count": 38
  },
  {
   "metadata": {
    "ExecuteTime": {
     "end_time": "2025-02-27T03:03:58.996975Z",
     "start_time": "2025-02-27T03:03:58.994137Z"
    }
   },
   "cell_type": "code",
   "source": [
    "def algo2(m):\n",
    "    for i in range(len(m)):\n",
    "        print(m[i])\n"
   ],
   "id": "5b266d85b562ff9f",
   "outputs": [],
   "execution_count": 39
  },
  {
   "metadata": {
    "ExecuteTime": {
     "end_time": "2025-02-27T03:43:42.305554Z",
     "start_time": "2025-02-27T03:43:42.303372Z"
    }
   },
   "cell_type": "code",
   "source": "algo2(A)",
   "id": "3e70e92e8590b37f",
   "outputs": [
    {
     "name": "stdout",
     "output_type": "stream",
     "text": [
      "[ 2 -1  1  3]\n",
      "[ 0  4 -4 -5]\n",
      "[ 0  1  2 -2]\n",
      "[ 0  0 -2 -2]\n"
     ]
    }
   ],
   "execution_count": 59
  },
  {
   "metadata": {
    "ExecuteTime": {
     "end_time": "2025-02-27T03:04:30.547436Z",
     "start_time": "2025-02-27T03:04:30.545108Z"
    }
   },
   "cell_type": "code",
   "source": "print(A)",
   "id": "94c983e77a016763",
   "outputs": [
    {
     "name": "stdout",
     "output_type": "stream",
     "text": [
      "[[ 2 -1  1  3]\n",
      " [ 4  2 -2  1]\n",
      " [ 1  1  3 -1]\n",
      " [ 3 -2 -1  2]]\n"
     ]
    }
   ],
   "execution_count": 42
  },
  {
   "metadata": {
    "ExecuteTime": {
     "end_time": "2025-02-27T03:07:17.111497Z",
     "start_time": "2025-02-27T03:07:17.109365Z"
    }
   },
   "cell_type": "code",
   "source": [
    "def algo(m):\n",
    "    print(m)\n"
   ],
   "id": "57ed02642259f4e0",
   "outputs": [],
   "execution_count": 43
  },
  {
   "metadata": {
    "ExecuteTime": {
     "end_time": "2025-02-27T03:07:21.263475Z",
     "start_time": "2025-02-27T03:07:21.261070Z"
    }
   },
   "cell_type": "code",
   "source": "algo(A)",
   "id": "4c34b8a0e6409cc3",
   "outputs": [
    {
     "name": "stdout",
     "output_type": "stream",
     "text": [
      "[[ 2 -1  1  3]\n",
      " [ 4  2 -2  1]\n",
      " [ 1  1  3 -1]\n",
      " [ 3 -2 -1  2]]\n"
     ]
    }
   ],
   "execution_count": 44
  },
  {
   "metadata": {
    "ExecuteTime": {
     "end_time": "2025-02-27T03:08:09.852667Z",
     "start_time": "2025-02-27T03:08:09.850397Z"
    }
   },
   "cell_type": "code",
   "source": [
    "def algo(m):\n",
    "    for i in range(len(m)):\n",
    "        print(i)"
   ],
   "id": "358e68ddd39b0b2e",
   "outputs": [],
   "execution_count": 45
  },
  {
   "metadata": {
    "ExecuteTime": {
     "end_time": "2025-02-27T03:08:14.676477Z",
     "start_time": "2025-02-27T03:08:14.674159Z"
    }
   },
   "cell_type": "code",
   "source": "algo(A)",
   "id": "fcb6c3ecbbafa17b",
   "outputs": [
    {
     "name": "stdout",
     "output_type": "stream",
     "text": [
      "0\n",
      "1\n",
      "2\n",
      "3\n"
     ]
    }
   ],
   "execution_count": 46
  },
  {
   "metadata": {
    "ExecuteTime": {
     "end_time": "2025-02-27T03:08:25.719570Z",
     "start_time": "2025-02-27T03:08:25.717735Z"
    }
   },
   "cell_type": "code",
   "source": "j = 1",
   "id": "c956755f48b848c4",
   "outputs": [],
   "execution_count": 47
  },
  {
   "metadata": {
    "ExecuteTime": {
     "end_time": "2025-02-27T03:08:53.567132Z",
     "start_time": "2025-02-27T03:08:53.564857Z"
    }
   },
   "cell_type": "code",
   "source": [
    "for i in range (j, 4):\n",
    "    print(i)\n"
   ],
   "id": "54dfd50084f77328",
   "outputs": [
    {
     "name": "stdout",
     "output_type": "stream",
     "text": [
      "1\n",
      "2\n",
      "3\n"
     ]
    }
   ],
   "execution_count": 49
  },
  {
   "metadata": {
    "ExecuteTime": {
     "end_time": "2025-02-27T03:48:43.160794Z",
     "start_time": "2025-02-27T03:48:43.158491Z"
    }
   },
   "cell_type": "code",
   "source": [
    "def algo(m):\n",
    "    if len(m) >= 2:\n",
    "        for j in range(0, len(m)-1):\n",
    "            for i in range(j+1, len(m)):\n",
    "                m[i] = m[i] - (m[i][j]/m[j][j]) * m[j]\n",
    "                print(m)"
   ],
   "id": "d535e32b821fb9e9",
   "outputs": [],
   "execution_count": 71
  },
  {
   "metadata": {
    "ExecuteTime": {
     "end_time": "2025-02-27T03:22:52.795865Z",
     "start_time": "2025-02-27T03:22:52.793433Z"
    }
   },
   "cell_type": "code",
   "source": "print(A)",
   "id": "f88fe1dcb961612",
   "outputs": [
    {
     "name": "stdout",
     "output_type": "stream",
     "text": [
      "[[ 2 -1  1  3]\n",
      " [ 4  2 -2  1]\n",
      " [ 1  1  3 -1]\n",
      " [ 3 -2 -1  2]]\n"
     ]
    }
   ],
   "execution_count": 52
  },
  {
   "metadata": {
    "ExecuteTime": {
     "end_time": "2025-02-27T03:22:59.251614Z",
     "start_time": "2025-02-27T03:22:59.249192Z"
    }
   },
   "cell_type": "code",
   "source": "print(algo(A))",
   "id": "52858f57d553bd4",
   "outputs": [
    {
     "name": "stdout",
     "output_type": "stream",
     "text": [
      "None\n"
     ]
    }
   ],
   "execution_count": 53
  },
  {
   "metadata": {
    "ExecuteTime": {
     "end_time": "2025-02-27T03:23:16.618274Z",
     "start_time": "2025-02-27T03:23:16.616349Z"
    }
   },
   "cell_type": "code",
   "source": "algo(A)",
   "id": "f027ebef0b1d3f5f",
   "outputs": [],
   "execution_count": 54
  },
  {
   "metadata": {
    "ExecuteTime": {
     "end_time": "2025-02-27T03:23:20.387858Z",
     "start_time": "2025-02-27T03:23:20.385604Z"
    }
   },
   "cell_type": "code",
   "source": "print(A)",
   "id": "d11c6dd00e4f6099",
   "outputs": [
    {
     "name": "stdout",
     "output_type": "stream",
     "text": [
      "[[ 2 -1  1  3]\n",
      " [ 0  4 -4 -5]\n",
      " [ 0  1  2 -2]\n",
      " [ 0  0 -2 -2]]\n"
     ]
    }
   ],
   "execution_count": 55
  },
  {
   "metadata": {
    "ExecuteTime": {
     "end_time": "2025-02-27T03:43:34.741784Z",
     "start_time": "2025-02-27T03:43:34.739627Z"
    }
   },
   "cell_type": "code",
   "source": "print(A)",
   "id": "54d66b2dded127f6",
   "outputs": [
    {
     "name": "stdout",
     "output_type": "stream",
     "text": [
      "[[ 2 -1  1  3]\n",
      " [ 0  4 -4 -5]\n",
      " [ 0  1  2 -2]\n",
      " [ 0  0 -2 -2]]\n"
     ]
    }
   ],
   "execution_count": 58
  },
  {
   "metadata": {
    "ExecuteTime": {
     "end_time": "2025-02-27T03:43:56.714876Z",
     "start_time": "2025-02-27T03:43:56.712677Z"
    }
   },
   "cell_type": "code",
   "source": "print(A)",
   "id": "a392cb64abd0f93d",
   "outputs": [
    {
     "name": "stdout",
     "output_type": "stream",
     "text": [
      "[[ 2 -1  1  3]\n",
      " [ 0  4 -4 -5]\n",
      " [ 0  1  2 -2]\n",
      " [ 0  0 -2 -2]]\n"
     ]
    }
   ],
   "execution_count": 61
  },
  {
   "metadata": {
    "ExecuteTime": {
     "end_time": "2025-02-27T03:44:13.554407Z",
     "start_time": "2025-02-27T03:44:13.552194Z"
    }
   },
   "cell_type": "code",
   "source": "print(A)",
   "id": "57e37e3544bdf573",
   "outputs": [
    {
     "name": "stdout",
     "output_type": "stream",
     "text": [
      "[[ 2 -1  1  3]\n",
      " [ 4  2 -2  1]\n",
      " [ 1  1  3 -1]\n",
      " [ 3 -2 -1  2]]\n"
     ]
    }
   ],
   "execution_count": 63
  },
  {
   "metadata": {
    "ExecuteTime": {
     "end_time": "2025-02-27T03:44:19.396245Z",
     "start_time": "2025-02-27T03:44:19.393908Z"
    }
   },
   "cell_type": "code",
   "source": "algo(A)",
   "id": "6dfbb106a2b3481c",
   "outputs": [],
   "execution_count": 64
  },
  {
   "metadata": {
    "ExecuteTime": {
     "end_time": "2025-02-27T03:44:24.323274Z",
     "start_time": "2025-02-27T03:44:24.321165Z"
    }
   },
   "cell_type": "code",
   "source": "print(A)",
   "id": "7ea10966e563e405",
   "outputs": [
    {
     "name": "stdout",
     "output_type": "stream",
     "text": [
      "[[ 2 -1  1  3]\n",
      " [ 0  4 -4 -5]\n",
      " [ 0  0  3  0]\n",
      " [ 0  0  0 -2]]\n"
     ]
    }
   ],
   "execution_count": 65
  },
  {
   "metadata": {
    "ExecuteTime": {
     "end_time": "2025-02-27T03:45:48.101268Z",
     "start_time": "2025-02-27T03:45:48.098771Z"
    }
   },
   "cell_type": "code",
   "source": [
    "B = np.array([\n",
    "    [3, -1],\n",
    "    [0,  4],\n",
    "    [-2, 5]\n",
    "])\n",
    "\n",
    "print(B)"
   ],
   "id": "f67e3b182ddf0ed6",
   "outputs": [
    {
     "name": "stdout",
     "output_type": "stream",
     "text": [
      "[[ 3 -1]\n",
      " [ 0  4]\n",
      " [-2  5]]\n"
     ]
    }
   ],
   "execution_count": 66
  },
  {
   "metadata": {},
   "cell_type": "markdown",
   "source": "print(B)",
   "id": "404785c373df4d1c"
  },
  {
   "metadata": {
    "ExecuteTime": {
     "end_time": "2025-02-27T03:46:30.065298Z",
     "start_time": "2025-02-27T03:46:30.063189Z"
    }
   },
   "cell_type": "code",
   "source": "print(B)",
   "id": "bdd5f78bd40583fa",
   "outputs": [
    {
     "name": "stdout",
     "output_type": "stream",
     "text": [
      "[[ 3 -1]\n",
      " [ 0  4]\n",
      " [-2  5]]\n"
     ]
    }
   ],
   "execution_count": 67
  },
  {
   "metadata": {
    "ExecuteTime": {
     "end_time": "2025-02-27T03:46:36.040789Z",
     "start_time": "2025-02-27T03:46:36.038799Z"
    }
   },
   "cell_type": "code",
   "source": "algo(B)",
   "id": "e58421967a6e495d",
   "outputs": [],
   "execution_count": 68
  },
  {
   "metadata": {
    "ExecuteTime": {
     "end_time": "2025-02-27T03:46:39.023004Z",
     "start_time": "2025-02-27T03:46:39.020873Z"
    }
   },
   "cell_type": "code",
   "source": "print(B)",
   "id": "be3ae56fc7ea2ac",
   "outputs": [
    {
     "name": "stdout",
     "output_type": "stream",
     "text": [
      "[[ 3 -1]\n",
      " [ 0  4]\n",
      " [ 0  0]]\n"
     ]
    }
   ],
   "execution_count": 69
  },
  {
   "metadata": {
    "ExecuteTime": {
     "end_time": "2025-02-27T03:48:51.725789Z",
     "start_time": "2025-02-27T03:48:51.723473Z"
    }
   },
   "cell_type": "code",
   "source": [
    "B = np.array([\n",
    "    [3, -1],\n",
    "    [0,  4],\n",
    "    [-2, 5]\n",
    "])"
   ],
   "id": "bbeeab1fe45428b4",
   "outputs": [],
   "execution_count": 72
  },
  {
   "metadata": {
    "ExecuteTime": {
     "end_time": "2025-02-27T03:48:55.316157Z",
     "start_time": "2025-02-27T03:48:55.313634Z"
    }
   },
   "cell_type": "code",
   "source": "algo(B)",
   "id": "7f052920cf5bc6d2",
   "outputs": [
    {
     "name": "stdout",
     "output_type": "stream",
     "text": [
      "[[ 3 -1]\n",
      " [ 0  4]\n",
      " [-2  5]]\n",
      "[[ 3 -1]\n",
      " [ 0  4]\n",
      " [ 0  4]]\n",
      "[[ 3 -1]\n",
      " [ 0  4]\n",
      " [ 0  0]]\n"
     ]
    }
   ],
   "execution_count": 73
  },
  {
   "metadata": {
    "ExecuteTime": {
     "end_time": "2025-02-27T04:09:02.324958Z",
     "start_time": "2025-02-27T04:09:02.322862Z"
    }
   },
   "cell_type": "code",
   "source": "X = np.array([[1,2,3],[0,1,4],[5,6,7]])",
   "id": "96ba2490aee67323",
   "outputs": [],
   "execution_count": 74
  },
  {
   "metadata": {
    "ExecuteTime": {
     "end_time": "2025-02-27T04:09:05.280687Z",
     "start_time": "2025-02-27T04:09:05.278287Z"
    }
   },
   "cell_type": "code",
   "source": "print(X)",
   "id": "ada808c1f59aee91",
   "outputs": [
    {
     "name": "stdout",
     "output_type": "stream",
     "text": [
      "[[1 2 3]\n",
      " [0 1 4]\n",
      " [5 6 7]]\n"
     ]
    }
   ],
   "execution_count": 75
  },
  {
   "metadata": {
    "ExecuteTime": {
     "end_time": "2025-02-27T04:09:12.383431Z",
     "start_time": "2025-02-27T04:09:12.381039Z"
    }
   },
   "cell_type": "code",
   "source": "algo(X)",
   "id": "3339fc63ebacbf4e",
   "outputs": [
    {
     "name": "stdout",
     "output_type": "stream",
     "text": [
      "[[1 2 3]\n",
      " [0 1 4]\n",
      " [5 6 7]]\n",
      "[[ 1  2  3]\n",
      " [ 0  1  4]\n",
      " [ 0 -4 -8]]\n",
      "[[1 2 3]\n",
      " [0 1 4]\n",
      " [0 0 8]]\n"
     ]
    }
   ],
   "execution_count": 76
  },
  {
   "metadata": {
    "ExecuteTime": {
     "end_time": "2025-02-27T04:09:20.918763Z",
     "start_time": "2025-02-27T04:09:20.916483Z"
    }
   },
   "cell_type": "code",
   "source": "print(X)",
   "id": "3a3a42100609afab",
   "outputs": [
    {
     "name": "stdout",
     "output_type": "stream",
     "text": [
      "[[1 2 3]\n",
      " [0 1 4]\n",
      " [0 0 8]]\n"
     ]
    }
   ],
   "execution_count": 77
  },
  {
   "metadata": {
    "ExecuteTime": {
     "end_time": "2025-02-27T04:20:12.578762Z",
     "start_time": "2025-02-27T04:20:11.972600Z"
    }
   },
   "cell_type": "code",
   "source": "import matplotlib.pyplot as plt",
   "id": "6fad4bf67897363a",
   "outputs": [],
   "execution_count": 78
  },
  {
   "metadata": {
    "ExecuteTime": {
     "end_time": "2025-02-27T04:25:57.370973Z",
     "start_time": "2025-02-27T04:25:57.314029Z"
    }
   },
   "cell_type": "code",
   "source": [
    "# Example 2D vector (can be replaced with any numpy array)\n",
    "vector = np.array([3, 4])\n",
    "\n",
    "# Create a plot\n",
    "plt.quiver(0, 0, vector[0], vector[1], angles='xy', scale_units='xy', scale=1, color='blue')\n",
    "\n",
    "# Set the aspect of the plot to be equal\n",
    "plt.xlim(0, 5)\n",
    "plt.ylim(0, 5)\n",
    "plt.axhline(0, color='black',linewidth=0.5)\n",
    "plt.axvline(0, color='black',linewidth=0.5)\n",
    "plt.grid(True)\n",
    "\n",
    "plt.gca().set_aspect('equal', adjustable='box')\n",
    "\n",
    "# Show the plot\n",
    "plt.show()"
   ],
   "id": "b48031a813bfaebe",
   "outputs": [
    {
     "data": {
      "text/plain": [
       "<Figure size 640x480 with 1 Axes>"
      ],
      "image/png": "[encoded data removed]"
     },
     "metadata": {},
     "output_type": "display_data"
    }
   ],
   "execution_count": 89
  },
  {
   "metadata": {},
   "cell_type": "code",
   "outputs": [],
   "execution_count": null,
   "source": "",
   "id": "add74029e4c04f4b"
  }
 ],
 "metadata": {
  "kernelspec": {
   "display_name": "Python 3",
   "language": "python",
   "name": "python3"
  },
  "language_info": {
   "codemirror_mode": {
    "name": "ipython",
    "version": 2
   },
   "file_extension": ".py",
   "mimetype": "text/x-python",
   "name": "python",
   "nbconvert_exporter": "python",
   "pygments_lexer": "ipython2",
   "version": "2.7.6"
  }
 },
 "nbformat": 4,
 "nbformat_minor": 5
}
